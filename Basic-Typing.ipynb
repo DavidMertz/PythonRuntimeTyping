{
 "cells": [
  {
   "cell_type": "markdown",
   "id": "4fd69527-9401-4332-9d56-84445da7b16d",
   "metadata": {},
   "source": [
    "# Static and Runtime Typing"
   ]
  },
  {
   "cell_type": "markdown",
   "id": "353ba068-b05e-4932-999f-ae80f902efbf",
   "metadata": {},
   "source": [
    "## An Origin Story\n",
    "\n",
    "With their initial inclusion in Python 3.0, annotations grew a variety of uses. Since PEP-484 in 2014, and with subsequent expansions of  gradual static typing support in the language, type checking has become the predominant and \"official\" use for annotations. The most  visible such use is in static type checkers. "
   ]
  },
  {
   "cell_type": "markdown",
   "id": "4ab37a5b-97c0-4165-9596-4703d2a19ea8",
   "metadata": {},
   "source": [
    "## A Dynamic World\n",
    "\n",
    "Over this same period, however, a number of widely used and powerful libraries have also  grown runtime uses for annotations. In the main, these libraries also utilize annotations for typing purpose, but the nuances of typing  sometimes vary between runtime enforcement or hinting and static lint-like analysis of whole programs. Both static and runtime type checking can be useful for Python programs and libraries. Ideally, the same annotations can be used for both purposes, but in edge cases this fails. Runtime libraries also commonly express interfaces to external programs in a manner static checks  cannot, and also sometimes are able to detect and prevent runtime conditions that are not always accessible to static analysis. Among  libraries that use annotations for runtime purposes are dataclasses, attrs (structured data, not enforced typing), typer for CLI interfaces,  SQLModel. odmantic, and Beanie for database interaction, Pydantic, and FastAPI for JSON microservices (and other uses), and the use of  annotations in documentation systems like Sphinx."
   ]
  },
  {
   "cell_type": "code",
   "execution_count": null,
   "id": "bdbaea7a-7161-4df5-a95c-88ffc1bab48c",
   "metadata": {},
   "outputs": [],
   "source": []
  }
 ],
 "metadata": {
  "kernelspec": {
   "display_name": "Python 3 (ipykernel)",
   "language": "python",
   "name": "python3"
  },
  "language_info": {
   "codemirror_mode": {
    "name": "ipython",
    "version": 3
   },
   "file_extension": ".py",
   "mimetype": "text/x-python",
   "name": "python",
   "nbconvert_exporter": "python",
   "pygments_lexer": "ipython3",
   "version": "3.10.4"
  }
 },
 "nbformat": 4,
 "nbformat_minor": 5
}
